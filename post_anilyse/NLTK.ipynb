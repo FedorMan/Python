{
 "cells": [
  {
   "cell_type": "code",
   "execution_count": 1,
   "metadata": {
    "collapsed": false
   },
   "outputs": [
    {
     "name": "stderr",
     "output_type": "stream",
     "text": [
      "C:\\Users\\Неважно\\Anaconda3\\lib\\site-packages\\nltk\\twitter\\__init__.py:20: UserWarning: The twython library has not been installed. Some functionality from the twitter package will not be available.\n",
      "  warnings.warn(\"The twython library has not been installed. \"\n"
     ]
    }
   ],
   "source": [
    "from nltk.sentiment.vader import SentimentIntensityAnalyzer\n",
    "from nltk import tokenize\n",
    "#import nltk\n",
    "#nltk.download()"
   ]
  },
  {
   "cell_type": "code",
   "execution_count": 16,
   "metadata": {
    "collapsed": true
   },
   "outputs": [],
   "source": [
    "sentences = [\"VADER is smart, handsome, and funny.\", # positive sentence example\n",
    "\"VADER is smart, handsome, and funny!\", # punctuation emphasis handled correctly (sentiment intensity adjusted)\n",
    "\"VADER is very smart, handsome, and funny.\",  # booster words handled correctly (sentiment intensity adjusted)\n",
    "\"VADER is VERY SMART, handsome, and FUNNY.\",  # emphasis for ALLCAPS handled\n",
    "\"VADER is VERY SMART, handsome, and FUNNY!!!\",# combination of signals - VADER appropriately adjusts intensity\n",
    "\"VADER is VERY SMART, really handsome, and INCREDIBLY FUNNY!!!\",# booster words & punctuation make this close to ceiling for score\n",
    "\"The book was good.\",         # positive sentence\n",
    "\"The book was kind of good.\", # qualified positive sentence is handled correctly (intensity adjusted)\n",
    "\"The plot was good, but the characters are uncompelling and the dialog is not great.\", # mixed negation sentence\n",
    "\"A really bad, horrible book.\",       # negative sentence with booster words\n",
    "\"At least it isn't a horrible book.\", # negated negative sentence with contraction\n",
    "\":) and :D\",     # emoticons handled\n",
    "\"\",              # an empty string is correctly handled\n",
    "\"Today sux\",     #  negative slang handled\n",
    "\"Today sux!\",    #  negative slang with punctuation emphasis handled\n",
    "\"Today SUX!\",    #  negative slang with capitalization emphasis\n",
    "\"Today kinda sux! But I'll get by, lol\" # mixed sentiment example with slang and constrastive conjunction \"but\"\n",
    "]"
   ]
  },
  {
   "cell_type": "code",
   "execution_count": 17,
   "metadata": {
    "collapsed": false
   },
   "outputs": [
    {
     "name": "stdout",
     "output_type": "stream",
     "text": [
      "VADER is smart, handsome, and funny.\n",
      "compound: 0.8316, neg: 0.0, neu: 0.254, pos: 0.746, \n",
      "VADER is smart, handsome, and funny!\n",
      "compound: 0.8439, neg: 0.0, neu: 0.248, pos: 0.752, \n",
      "VADER is very smart, handsome, and funny.\n",
      "compound: 0.8545, neg: 0.0, neu: 0.299, pos: 0.701, \n",
      "VADER is VERY SMART, handsome, and FUNNY.\n",
      "compound: 0.9227, neg: 0.0, neu: 0.246, pos: 0.754, \n",
      "VADER is VERY SMART, handsome, and FUNNY!!!\n",
      "compound: 0.9342, neg: 0.0, neu: 0.233, pos: 0.767, \n",
      "VADER is VERY SMART, really handsome, and INCREDIBLY FUNNY!!!\n",
      "compound: 0.9469, neg: 0.0, neu: 0.294, pos: 0.706, \n",
      "The book was good.\n",
      "compound: 0.4404, neg: 0.0, neu: 0.508, pos: 0.492, \n",
      "The book was kind of good.\n",
      "compound: 0.3832, neg: 0.0, neu: 0.657, pos: 0.343, \n",
      "The plot was good, but the characters are uncompelling and the dialog is not great.\n",
      "compound: -0.7042, neg: 0.327, neu: 0.579, pos: 0.094, \n",
      "A really bad, horrible book.\n",
      "compound: -0.8211, neg: 0.791, neu: 0.209, pos: 0.0, \n",
      "At least it isn't a horrible book.\n",
      "compound: 0.431, neg: 0.0, neu: 0.637, pos: 0.363, \n",
      ":) and :D\n",
      "compound: 0.7925, neg: 0.0, neu: 0.124, pos: 0.876, \n",
      "\n",
      "compound: 0.0, neg: 0.0, neu: 0.0, pos: 0.0, \n",
      "Today sux\n",
      "compound: -0.3612, neg: 0.714, neu: 0.286, pos: 0.0, \n",
      "Today sux!\n",
      "compound: -0.4199, neg: 0.736, neu: 0.264, pos: 0.0, \n",
      "Today SUX!\n",
      "compound: -0.5461, neg: 0.779, neu: 0.221, pos: 0.0, \n",
      "Today kinda sux! But I'll get by, lol\n",
      "compound: 0.2228, neg: 0.195, neu: 0.531, pos: 0.274, \n"
     ]
    }
   ],
   "source": [
    "sid = SentimentIntensityAnalyzer()\n",
    "for sentence in sentences:\n",
    "    print(sentence)\n",
    "    ss = sid.polarity_scores(sentence)\n",
    "    for k in sorted(ss):\n",
    "        print('{0}: {1}, '.format(k, ss[k]), end='')\n",
    "    print()"
   ]
  },
  {
   "cell_type": "code",
   "execution_count": null,
   "metadata": {
    "collapsed": true
   },
   "outputs": [],
   "source": []
  }
 ],
 "metadata": {
  "anaconda-cloud": {},
  "kernelspec": {
   "display_name": "Python [default]",
   "language": "python",
   "name": "python3"
  },
  "language_info": {
   "codemirror_mode": {
    "name": "ipython",
    "version": 3
   },
   "file_extension": ".py",
   "mimetype": "text/x-python",
   "name": "python",
   "nbconvert_exporter": "python",
   "pygments_lexer": "ipython3",
   "version": "3.5.2"
  }
 },
 "nbformat": 4,
 "nbformat_minor": 1
}
